{
 "cells": [
  {
   "cell_type": "code",
   "execution_count": 1,
   "id": "fbac618f-e8a9-4220-8ba1-c36422a898a2",
   "metadata": {},
   "outputs": [],
   "source": [
    "import zarr\n",
    "import numpy as np\n",
    "import multiprocessing\n",
    "import warnings\n",
    "from typing import Tuple\n",
    "import logging"
   ]
  },
  {
   "cell_type": "code",
   "execution_count": 2,
   "id": "fb379d6f-20e0-44f5-bbce-8d93f6e06f58",
   "metadata": {},
   "outputs": [],
   "source": [
    "warnings.filterwarnings(\n",
    "    \"ignore\", \"Found an empty list of filters in the array metadata document.\"\n",
    ")\n",
    "\n",
    "logger = logging.getLogger(\"rechunker\")\n",
    "logger.setLevel(logging.DEBUG)\n",
    "logging.basicConfig()"
   ]
  },
  {
   "cell_type": "code",
   "execution_count": 3,
   "id": "1c065049-146f-493b-a865-20d08fe74ff3",
   "metadata": {},
   "outputs": [],
   "source": [
    "def open_reference_filesystem(zarr_path, storage_options={}):\n",
    "    storage_options = add_parquet_options_if_needed(zarr_path, storage_options)\n",
    "    return zarr.open_group(f\"reference:://{zarr_path}\", storage_options=storage_options)\n",
    "\n",
    "\n",
    "def add_parquet_options_if_needed(zarr_path, storage_options):\n",
    "    if zarr_path.endswith(\".parq\"):\n",
    "        storage_options = storage_options or dict()\n",
    "        if \"remote_protocol\" not in storage_options:\n",
    "            storage_options = {\"remote_protocol\": \"file\"}\n",
    "        storage_options = storage_options | {\"lazy\": True}\n",
    "    return storage_options\n",
    "\n",
    "\n",
    "def gen_array(zarr_out, template, chunks):\n",
    "    return zarr_out.require_array(\n",
    "        name=template.name,\n",
    "        chunk_key_encoding=zarr.core.chunk_key_encodings.DefaultChunkKeyEncoding(\n",
    "            \"v2\", \"/\"\n",
    "        ),\n",
    "        shape=template.shape,\n",
    "        chunks=chunks,\n",
    "        dtype=\"float32\",\n",
    "        fill_value=np.nan,\n",
    "    )\n",
    "\n",
    "\n",
    "def create_outfile(filename, zarr_format):\n",
    "    return zarr.open(\n",
    "        filename,\n",
    "        mode=\"w\",\n",
    "        zarr_format=zarr_format,\n",
    "    )\n",
    "\n",
    "\n",
    "def simple_remap(var_name, big_slice, source, destination, chunksize):\n",
    "    print(big_slice)\n",
    "    outvar = destination[var_name]\n",
    "    for my_slice in iter_slices(big_slice, chunksize):\n",
    "        outvar[*my_slice] = source[*my_slice]\n",
    "\n",
    "\n",
    "def double_remap(\n",
    "    var_name,\n",
    "    slice_to_process,\n",
    "    in_store,\n",
    "    temp_store,\n",
    "    out_store,\n",
    "):\n",
    "    in_var = in_store[var_name]\n",
    "    temp_var = temp_store[var_name]\n",
    "    out_var = out_store[var_name]\n",
    "\n",
    "    temp_chunksize = shape_union(in_var.chunks, temp_var.chunks)\n",
    "    out_chunksize = shape_union(temp_var.chunks, out_var.chunks)\n",
    "\n",
    "    for my_slice in iter_slices(slice_to_process, temp_chunksize):\n",
    "        temp_var[*my_slice] = in_var[*my_slice]\n",
    "\n",
    "    for my_slice in iter_slices(slice_to_process, out_chunksize):\n",
    "        out_var[*my_slice] = temp_var[*my_slice]\n",
    "\n",
    "    temp_var[*slice_to_process] = np.nan\n",
    "\n",
    "\n",
    "def iter_slices(to_go, chunks, current=list()):\n",
    "    pos = len(current)\n",
    "    my_chunk = chunks[pos]\n",
    "    for i in range(to_go[0].start, to_go[0].stop, my_chunk):\n",
    "        my_slice = [slice(i, min(i + my_chunk, to_go[0].stop))]\n",
    "        if len(to_go) == 1:\n",
    "            yield tuple(current + my_slice)\n",
    "        else:\n",
    "            yield from iter_slices(to_go[1:], chunks, current=current + my_slice)\n",
    "\n",
    "\n",
    "def shape_union(shape_a: Tuple[int, ...], shape_b: Tuple[int, ...]) -> Tuple[int, ...]:\n",
    "    if len(shape_a) != len(shape_b):\n",
    "        raise ValueError(\n",
    "            f\"Cannot compute union of shapes with different rank: \"\n",
    "            f\"{len(shape_a)} vs {len(shape_b)}\"\n",
    "        )\n",
    "    return tuple(max(a_dim, b_dim) for a_dim, b_dim in zip(shape_a, shape_b))"
   ]
  },
  {
   "cell_type": "code",
   "execution_count": 4,
   "id": "e72eb1e0-69c9-4339-9eed-a26e394b4042",
   "metadata": {},
   "outputs": [],
   "source": [
    "var_name = \"cc\"\n",
    "\n",
    "temp_file = \"/fastdata/k20200/k202134/fasterpool/test2.zarr\"\n",
    "out_file = \"/work/bm1235/k202134/IFS_2km.zarr\""
   ]
  },
  {
   "cell_type": "code",
   "execution_count": 5,
   "id": "5c242d37-caee-4a2c-b152-ec8420d4cf1c",
   "metadata": {},
   "outputs": [
    {
     "data": {
      "text/plain": [
       "(1, 1, 50331648)"
      ]
     },
     "execution_count": 5,
     "metadata": {},
     "output_type": "execute_result"
    }
   ],
   "source": [
    "in_store = open_reference_filesystem(\"/work/bm1235/k202134/2D_hourly_healpix2048.parq\")\n",
    "\n",
    "invar = in_store[var_name]\n",
    "ncells = invar.chunks[-1]\n",
    "invar.chunks"
   ]
  },
  {
   "cell_type": "code",
   "execution_count": 6,
   "id": "6a2f8e80-7278-47e7-b9a8-5617f4f88e10",
   "metadata": {},
   "outputs": [
    {
     "data": {
      "text/plain": [
       "<Array file:///fastdata/k20200/k202134/fasterpool/test2.zarr/cc shape=(10201, 25, 50331648) dtype=float32>"
      ]
     },
     "execution_count": 6,
     "metadata": {},
     "output_type": "execute_result"
    }
   ],
   "source": [
    "gen_array(create_outfile(temp_file, zarr_format=3), invar, (1, 1, 4**10))"
   ]
  },
  {
   "cell_type": "code",
   "execution_count": 7,
   "id": "e4818891-c81e-4654-a57b-c79cd7b462e3",
   "metadata": {},
   "outputs": [
    {
     "data": {
      "text/plain": [
       "<Array file:///work/bm1235/k202134/IFS_2km.zarr/cc shape=(10201, 25, 50331648) dtype=float32>"
      ]
     },
     "execution_count": 7,
     "metadata": {},
     "output_type": "execute_result"
    }
   ],
   "source": [
    "gen_array(create_outfile(out_file, zarr_format=2), invar, (24, 5, 4**8))"
   ]
  },
  {
   "cell_type": "code",
   "execution_count": 8,
   "id": "d2448f68-ddab-449a-86fd-e23ded448e43",
   "metadata": {},
   "outputs": [
    {
     "name": "stdout",
     "output_type": "stream",
     "text": [
      "CPU times: user 72 ms, sys: 183 ms, total: 255 ms\n",
      "Wall time: 5min 38s\n"
     ]
    }
   ],
   "source": [
    "%%time\n",
    "\n",
    "temp_store = zarr.open(temp_file, mode=\"r+\")\n",
    "out_store = zarr.open(\n",
    "    out_file,\n",
    "    mode=\"r+\",\n",
    ")\n",
    "with multiprocessing.Pool(64) as pool:\n",
    "    pool.starmap(\n",
    "        double_remap,\n",
    "        [\n",
    "            (var_name, my_slice, in_store, temp_store, out_store)\n",
    "            for my_slice in iter_slices(\n",
    "                (slice(0, 96), slice(0, 25), slice(0, ncells)), (24, 5, ncells)\n",
    "            )\n",
    "        ],\n",
    "    )"
   ]
  }
 ],
 "metadata": {
  "kernelspec": {
   "display_name": "Rechunker venv",
   "language": "python",
   "name": "rechunker"
  },
  "language_info": {
   "codemirror_mode": {
    "name": "ipython",
    "version": 3
   },
   "file_extension": ".py",
   "mimetype": "text/x-python",
   "name": "python",
   "nbconvert_exporter": "python",
   "pygments_lexer": "ipython3",
   "version": "3.12.9"
  }
 },
 "nbformat": 4,
 "nbformat_minor": 5
}
