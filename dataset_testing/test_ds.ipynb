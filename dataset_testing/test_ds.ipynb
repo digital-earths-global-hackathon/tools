{
 "cells": [
  {
   "cell_type": "code",
   "execution_count": 1,
   "metadata": {},
   "outputs": [],
   "source": [
    "import intake\n",
    "import logging\n",
    "import cfunits\n",
    "from collections import defaultdict\n",
    "import xarray as xr\n",
    "from typing import List, Union\n",
    "import yaml"
   ]
  },
  {
   "cell_type": "code",
   "execution_count": 2,
   "metadata": {},
   "outputs": [],
   "source": [
    "catalog = \"https://data.nextgems-h2020.eu/online.yaml\"\n",
    "dataset = \"ICON.ngc3028\"\n",
    "# replace as apppropriate"
   ]
  },
  {
   "cell_type": "code",
   "execution_count": 3,
   "metadata": {},
   "outputs": [],
   "source": [
    "logging.basicConfig()\n",
    "logging.getLogger().setLevel(logging.INFO)\n",
    "\n",
    "\n",
    "def filter_warnings():\n",
    "    import warnings\n",
    "\n",
    "    warnings.filterwarnings(\n",
    "        \"ignore\", \"The return type of `Dataset.dims` will be changed to \"\n",
    "    )\n",
    "\n",
    "\n",
    "filter_warnings()"
   ]
  },
  {
   "cell_type": "code",
   "execution_count": 23,
   "metadata": {},
   "outputs": [],
   "source": [
    "with open(\"dataset_properties.yaml\") as infile:\n",
    "    expectations = yaml.safe_load(infile)"
   ]
  },
  {
   "cell_type": "code",
   "execution_count": 26,
   "metadata": {},
   "outputs": [],
   "source": [
    "def test_metadata(ds: xr.Dataset, expectations: dict) -> List[str]:\n",
    "    errors = []\n",
    "    expected_vars = expectations[\"vars\"]\n",
    "    for var in expected_vars:\n",
    "        if var not in ds:\n",
    "            errors.append(f\"{var} missing.\")\n",
    "            continue\n",
    "\n",
    "        if (ret := test_units(ds, expected_vars, var)) is not None:\n",
    "            errors.append(ret)\n",
    "\n",
    "    if (\n",
    "        \"levels\" in expectations\n",
    "        and (ret := test_level_vars(ds, expectations=expectations[\"levels\"]))\n",
    "        is not None\n",
    "    ):\n",
    "        errors.append(ret)\n",
    "\n",
    "    return errors\n",
    "\n",
    "\n",
    "def test_level_vars(ds: xr.Dataset, expectations: dict):\n",
    "    for name in expectations:\n",
    "        if name not in ds:\n",
    "            return f\"dataset misses dimension variable {name}\"\n",
    "        level_values = list(ds[name].values)\n",
    "        expected_values = expectations[name][\"values\"]\n",
    "        if level_values != expected_values:\n",
    "            return f\"dimension {name} with values {level_values} does not match expectation of {expected_values}\"\n",
    "\n",
    "\n",
    "def test_units(ds, expected_vars, var):\n",
    "    units = ds[var].attrs.get(\"units\", None)\n",
    "    if units is None:\n",
    "        return f\"{var} lacks units attribute. Should be {expected_vars[var]['units']}\"\n",
    "\n",
    "    elif not (\n",
    "        cfunits.units.Units(units).equals(\n",
    "            cfunits.units.Units(expected_vars[var][\"units\"])\n",
    "        )\n",
    "    ):\n",
    "        return f\"{var}'s units of '{units}' don't match expectation of '{expected_vars[var]['units']}'\"\n",
    "\n",
    "\n",
    "def test_values(ds: xr.Dataset, expectations: dict) -> List[str]:\n",
    "    errors = []\n",
    "    expected_vars = expectations[\"vars\"]\n",
    "    for var in expected_vars:\n",
    "        if var not in ds:\n",
    "            errors.append(f\"{var} missing.\")\n",
    "            continue\n",
    "        units = ds[var].attrs.get(\"units\", \"\")\n",
    "        print(\n",
    "            f\"{ds[var].min().values} {units} <= {var} <= {ds[var].max().values} {units}\"\n",
    "        )\n",
    "\n",
    "        if not ds[var].min() >= expected_vars[var][\"lower_bound\"]:\n",
    "            errors.append(\n",
    "                f\"ds[{var}] smaller than {expected_vars[var]['lower_bound']}: {ds[var].min().values}\"\n",
    "            )\n",
    "        if not ds[var].max() <= expected_vars[var][\"upper_bound\"]:\n",
    "            errors.append(\n",
    "                f\"ds[{var}] greater than {expected_vars[var]['upper_bound']}: {ds[var].max().values}\"\n",
    "            )\n",
    "    return errors\n",
    "\n",
    "\n",
    "def iterate_user_parameters(entry, fixed_keys: Union[dict, None] = None):\n",
    "    if fixed_keys is None:\n",
    "        fixed_keys = {}\n",
    "    user_parameters = entry.describe()[\"user_parameters\"]\n",
    "    names = [x[\"name\"] for x in user_parameters]\n",
    "    remaining_keys = sorted([x for x in names if x not in fixed_keys.keys()])\n",
    "    if len(remaining_keys) == 0:\n",
    "        yield fixed_keys\n",
    "        return\n",
    "    param = user_parameters[len(fixed_keys)]\n",
    "    logging.debug(f\" iterating over {param}\")\n",
    "    key = param[\"name\"]\n",
    "    for value in param[\"allowed\"]:\n",
    "        fixed_keys[key] = value\n",
    "        logging.debug(f\"fixed keys for this iteration: {fixed_keys}\")\n",
    "        if len(remaining_keys) == 1:\n",
    "            logging.debug(f\"yielding {fixed_keys}\")\n",
    "            yield fixed_keys\n",
    "        else:\n",
    "            yield from iterate_user_parameters(entry, fixed_keys.copy())\n",
    "\n",
    "\n",
    "def test_catalog_entry(\n",
    "    entry, fixed_keys=None, test_function=lambda x: list(x), test_function_kwargs={}\n",
    "):\n",
    "    errors = defaultdict(list)\n",
    "    for x in iterate_user_parameters(entry, fixed_keys=fixed_keys):\n",
    "        logging.info(f\"processing {x}\")\n",
    "        try:\n",
    "            ds = entry(**x).to_dask()\n",
    "        except KeyError as e:\n",
    "            errors[str(x)].append(\n",
    "                f\"could not convert entry with params {x} to dask: KeyError: {e}\"\n",
    "            )\n",
    "            continue\n",
    "        except Exception as e:\n",
    "            errors[str(x)].append(f\"Error loading {x}: {e}\")\n",
    "        else:\n",
    "            try:\n",
    "                returns = test_function(ds, **test_function_kwargs)\n",
    "                if returns:\n",
    "                    errors[str(x)].extend(returns)\n",
    "            except Exception as e:\n",
    "                logging.critical(f\"Error processing {x}: {e}\")\n",
    "                raise e\n",
    "    if len(errors):\n",
    "        raise BadDataset(errors)\n",
    "\n",
    "\n",
    "class BadDataset(Exception):\n",
    "    def __str__(self) -> str:\n",
    "        error_string = \"\"\n",
    "        errordict = self.args[0]\n",
    "        for key, value in errordict.items():\n",
    "            error_string += \"\\n\" + \"\\n\".join(f\"{key}: {line}\" for line in value) + \"\\n\"\n",
    "        return error_string"
   ]
  },
  {
   "cell_type": "code",
   "execution_count": 27,
   "metadata": {},
   "outputs": [
    {
     "name": "stderr",
     "output_type": "stream",
     "text": [
      "INFO:root:processing {'time': 'PT30M', 'zoom': 7}\n",
      "INFO:root:processing {'time': 'PT30M', 'zoom': 6}\n",
      "INFO:root:processing {'time': 'PT30M', 'zoom': 5}\n",
      "INFO:root:processing {'time': 'PT30M', 'zoom': 4}\n",
      "INFO:root:processing {'time': 'PT30M', 'zoom': 3}\n",
      "INFO:root:processing {'time': 'PT30M', 'zoom': 2}\n",
      "INFO:root:processing {'time': 'PT30M', 'zoom': 1}\n",
      "INFO:root:processing {'time': 'PT30M', 'zoom': 0}\n",
      "INFO:root:processing {'time': 'PT3H', 'zoom': 7}\n",
      "INFO:root:processing {'time': 'PT3H', 'zoom': 6}\n",
      "INFO:root:processing {'time': 'PT3H', 'zoom': 5}\n",
      "INFO:root:processing {'time': 'PT3H', 'zoom': 4}\n",
      "INFO:root:processing {'time': 'PT3H', 'zoom': 3}\n",
      "INFO:root:processing {'time': 'PT3H', 'zoom': 2}\n",
      "INFO:root:processing {'time': 'PT3H', 'zoom': 1}\n",
      "INFO:root:processing {'time': 'PT3H', 'zoom': 0}\n",
      "INFO:root:processing {'time': 'P1D', 'zoom': 7}\n",
      "INFO:root:processing {'time': 'P1D', 'zoom': 6}\n",
      "INFO:root:processing {'time': 'P1D', 'zoom': 5}\n",
      "INFO:root:processing {'time': 'P1D', 'zoom': 4}\n",
      "INFO:root:processing {'time': 'P1D', 'zoom': 3}\n",
      "INFO:root:processing {'time': 'P1D', 'zoom': 2}\n",
      "INFO:root:processing {'time': 'P1D', 'zoom': 1}\n",
      "INFO:root:processing {'time': 'P1D', 'zoom': 0}\n"
     ]
    },
    {
     "ename": "BadDataset",
     "evalue": "\n{'time': 'PT30M', 'zoom': 7}: Error loading {'time': 'PT30M', 'zoom': 7}: Failed to decode variable 'time': cannot reshape array of size 66240 into shape (64800,)\n\n{'time': 'PT30M', 'zoom': 6}: cli missing.\n{'time': 'PT30M', 'zoom': 6}: clw missing.\n{'time': 'PT30M', 'zoom': 6}: hur missing.\n{'time': 'PT30M', 'zoom': 6}: hus missing.\n{'time': 'PT30M', 'zoom': 6}: qg missing.\n{'time': 'PT30M', 'zoom': 6}: qr missing.\n{'time': 'PT30M', 'zoom': 6}: qs missing.\n{'time': 'PT30M', 'zoom': 6}: ta missing.\n{'time': 'PT30M', 'zoom': 6}: ua missing.\n{'time': 'PT30M', 'zoom': 6}: va missing.\n{'time': 'PT30M', 'zoom': 6}: wa missing.\n{'time': 'PT30M', 'zoom': 6}: zg missing.\n\n{'time': 'PT30M', 'zoom': 5}: cli missing.\n{'time': 'PT30M', 'zoom': 5}: clw missing.\n{'time': 'PT30M', 'zoom': 5}: hur missing.\n{'time': 'PT30M', 'zoom': 5}: hus missing.\n{'time': 'PT30M', 'zoom': 5}: qg missing.\n{'time': 'PT30M', 'zoom': 5}: qr missing.\n{'time': 'PT30M', 'zoom': 5}: qs missing.\n{'time': 'PT30M', 'zoom': 5}: ta missing.\n{'time': 'PT30M', 'zoom': 5}: ua missing.\n{'time': 'PT30M', 'zoom': 5}: va missing.\n{'time': 'PT30M', 'zoom': 5}: wa missing.\n{'time': 'PT30M', 'zoom': 5}: zg missing.\n\n{'time': 'PT30M', 'zoom': 4}: cli missing.\n{'time': 'PT30M', 'zoom': 4}: clw missing.\n{'time': 'PT30M', 'zoom': 4}: hur missing.\n{'time': 'PT30M', 'zoom': 4}: hus missing.\n{'time': 'PT30M', 'zoom': 4}: qg missing.\n{'time': 'PT30M', 'zoom': 4}: qr missing.\n{'time': 'PT30M', 'zoom': 4}: qs missing.\n{'time': 'PT30M', 'zoom': 4}: ta missing.\n{'time': 'PT30M', 'zoom': 4}: ua missing.\n{'time': 'PT30M', 'zoom': 4}: va missing.\n{'time': 'PT30M', 'zoom': 4}: wa missing.\n{'time': 'PT30M', 'zoom': 4}: zg missing.\n\n{'time': 'PT30M', 'zoom': 3}: cli missing.\n{'time': 'PT30M', 'zoom': 3}: clw missing.\n{'time': 'PT30M', 'zoom': 3}: hur missing.\n{'time': 'PT30M', 'zoom': 3}: hus missing.\n{'time': 'PT30M', 'zoom': 3}: qg missing.\n{'time': 'PT30M', 'zoom': 3}: qr missing.\n{'time': 'PT30M', 'zoom': 3}: qs missing.\n{'time': 'PT30M', 'zoom': 3}: ta missing.\n{'time': 'PT30M', 'zoom': 3}: ua missing.\n{'time': 'PT30M', 'zoom': 3}: va missing.\n{'time': 'PT30M', 'zoom': 3}: wa missing.\n{'time': 'PT30M', 'zoom': 3}: zg missing.\n\n{'time': 'PT30M', 'zoom': 2}: cli missing.\n{'time': 'PT30M', 'zoom': 2}: clw missing.\n{'time': 'PT30M', 'zoom': 2}: hur missing.\n{'time': 'PT30M', 'zoom': 2}: hus missing.\n{'time': 'PT30M', 'zoom': 2}: qg missing.\n{'time': 'PT30M', 'zoom': 2}: qr missing.\n{'time': 'PT30M', 'zoom': 2}: qs missing.\n{'time': 'PT30M', 'zoom': 2}: ta missing.\n{'time': 'PT30M', 'zoom': 2}: ua missing.\n{'time': 'PT30M', 'zoom': 2}: va missing.\n{'time': 'PT30M', 'zoom': 2}: wa missing.\n{'time': 'PT30M', 'zoom': 2}: zg missing.\n\n{'time': 'PT30M', 'zoom': 1}: cli missing.\n{'time': 'PT30M', 'zoom': 1}: clw missing.\n{'time': 'PT30M', 'zoom': 1}: hur missing.\n{'time': 'PT30M', 'zoom': 1}: hus missing.\n{'time': 'PT30M', 'zoom': 1}: qg missing.\n{'time': 'PT30M', 'zoom': 1}: qr missing.\n{'time': 'PT30M', 'zoom': 1}: qs missing.\n{'time': 'PT30M', 'zoom': 1}: ta missing.\n{'time': 'PT30M', 'zoom': 1}: ua missing.\n{'time': 'PT30M', 'zoom': 1}: va missing.\n{'time': 'PT30M', 'zoom': 1}: wa missing.\n{'time': 'PT30M', 'zoom': 1}: zg missing.\n\n{'time': 'PT30M', 'zoom': 0}: cli missing.\n{'time': 'PT30M', 'zoom': 0}: clw missing.\n{'time': 'PT30M', 'zoom': 0}: hur missing.\n{'time': 'PT30M', 'zoom': 0}: hus missing.\n{'time': 'PT30M', 'zoom': 0}: qg missing.\n{'time': 'PT30M', 'zoom': 0}: qr missing.\n{'time': 'PT30M', 'zoom': 0}: qs missing.\n{'time': 'PT30M', 'zoom': 0}: ta missing.\n{'time': 'PT30M', 'zoom': 0}: ua missing.\n{'time': 'PT30M', 'zoom': 0}: va missing.\n{'time': 'PT30M', 'zoom': 0}: wa missing.\n{'time': 'PT30M', 'zoom': 0}: zg missing.\n\n{'time': 'PT3H', 'zoom': 7}: dataset misses dimension variable pressure_level\n{'time': 'PT3H', 'zoom': 7}: dataset misses dimension variable pressure_level\n{'time': 'PT3H', 'zoom': 7}: hur missing.\n{'time': 'PT3H', 'zoom': 7}: hus lacks units attribute. Should be kg/kg\n{'time': 'PT3H', 'zoom': 7}: dataset misses dimension variable pressure_level\n{'time': 'PT3H', 'zoom': 7}: dataset misses dimension variable pressure_level\n{'time': 'PT3H', 'zoom': 7}: dataset misses dimension variable pressure_level\n{'time': 'PT3H', 'zoom': 7}: dataset misses dimension variable pressure_level\n{'time': 'PT3H', 'zoom': 7}: dataset misses dimension variable pressure_level\n{'time': 'PT3H', 'zoom': 7}: dataset misses dimension variable pressure_level\n{'time': 'PT3H', 'zoom': 7}: dataset misses dimension variable pressure_level\n{'time': 'PT3H', 'zoom': 7}: wa missing.\n{'time': 'PT3H', 'zoom': 7}: zg missing.\n\n{'time': 'PT3H', 'zoom': 6}: Error loading {'time': 'PT3H', 'zoom': 6}: Failed to decode variable 'time': cannot reshape array of size 11040 into shape (10800,)\n\n{'time': 'PT3H', 'zoom': 5}: dataset misses dimension variable pressure_level\n{'time': 'PT3H', 'zoom': 5}: dataset misses dimension variable pressure_level\n{'time': 'PT3H', 'zoom': 5}: hur missing.\n{'time': 'PT3H', 'zoom': 5}: hus lacks units attribute. Should be kg/kg\n{'time': 'PT3H', 'zoom': 5}: dataset misses dimension variable pressure_level\n{'time': 'PT3H', 'zoom': 5}: dataset misses dimension variable pressure_level\n{'time': 'PT3H', 'zoom': 5}: dataset misses dimension variable pressure_level\n{'time': 'PT3H', 'zoom': 5}: dataset misses dimension variable pressure_level\n{'time': 'PT3H', 'zoom': 5}: dataset misses dimension variable pressure_level\n{'time': 'PT3H', 'zoom': 5}: dataset misses dimension variable pressure_level\n{'time': 'PT3H', 'zoom': 5}: dataset misses dimension variable pressure_level\n{'time': 'PT3H', 'zoom': 5}: wa missing.\n{'time': 'PT3H', 'zoom': 5}: zg missing.\n\n{'time': 'PT3H', 'zoom': 4}: dataset misses dimension variable pressure_level\n{'time': 'PT3H', 'zoom': 4}: dataset misses dimension variable pressure_level\n{'time': 'PT3H', 'zoom': 4}: hur missing.\n{'time': 'PT3H', 'zoom': 4}: hus lacks units attribute. Should be kg/kg\n{'time': 'PT3H', 'zoom': 4}: dataset misses dimension variable pressure_level\n{'time': 'PT3H', 'zoom': 4}: dataset misses dimension variable pressure_level\n{'time': 'PT3H', 'zoom': 4}: dataset misses dimension variable pressure_level\n{'time': 'PT3H', 'zoom': 4}: dataset misses dimension variable pressure_level\n{'time': 'PT3H', 'zoom': 4}: dataset misses dimension variable pressure_level\n{'time': 'PT3H', 'zoom': 4}: dataset misses dimension variable pressure_level\n{'time': 'PT3H', 'zoom': 4}: dataset misses dimension variable pressure_level\n{'time': 'PT3H', 'zoom': 4}: wa missing.\n{'time': 'PT3H', 'zoom': 4}: zg missing.\n\n{'time': 'PT3H', 'zoom': 3}: dataset misses dimension variable pressure_level\n{'time': 'PT3H', 'zoom': 3}: dataset misses dimension variable pressure_level\n{'time': 'PT3H', 'zoom': 3}: hur missing.\n{'time': 'PT3H', 'zoom': 3}: hus lacks units attribute. Should be kg/kg\n{'time': 'PT3H', 'zoom': 3}: dataset misses dimension variable pressure_level\n{'time': 'PT3H', 'zoom': 3}: dataset misses dimension variable pressure_level\n{'time': 'PT3H', 'zoom': 3}: dataset misses dimension variable pressure_level\n{'time': 'PT3H', 'zoom': 3}: dataset misses dimension variable pressure_level\n{'time': 'PT3H', 'zoom': 3}: dataset misses dimension variable pressure_level\n{'time': 'PT3H', 'zoom': 3}: dataset misses dimension variable pressure_level\n{'time': 'PT3H', 'zoom': 3}: dataset misses dimension variable pressure_level\n{'time': 'PT3H', 'zoom': 3}: wa missing.\n{'time': 'PT3H', 'zoom': 3}: zg missing.\n\n{'time': 'PT3H', 'zoom': 2}: dataset misses dimension variable pressure_level\n{'time': 'PT3H', 'zoom': 2}: dataset misses dimension variable pressure_level\n{'time': 'PT3H', 'zoom': 2}: hur missing.\n{'time': 'PT3H', 'zoom': 2}: hus lacks units attribute. Should be kg/kg\n{'time': 'PT3H', 'zoom': 2}: dataset misses dimension variable pressure_level\n{'time': 'PT3H', 'zoom': 2}: dataset misses dimension variable pressure_level\n{'time': 'PT3H', 'zoom': 2}: dataset misses dimension variable pressure_level\n{'time': 'PT3H', 'zoom': 2}: dataset misses dimension variable pressure_level\n{'time': 'PT3H', 'zoom': 2}: dataset misses dimension variable pressure_level\n{'time': 'PT3H', 'zoom': 2}: dataset misses dimension variable pressure_level\n{'time': 'PT3H', 'zoom': 2}: dataset misses dimension variable pressure_level\n{'time': 'PT3H', 'zoom': 2}: wa missing.\n{'time': 'PT3H', 'zoom': 2}: zg missing.\n\n{'time': 'PT3H', 'zoom': 1}: dataset misses dimension variable pressure_level\n{'time': 'PT3H', 'zoom': 1}: dataset misses dimension variable pressure_level\n{'time': 'PT3H', 'zoom': 1}: hur missing.\n{'time': 'PT3H', 'zoom': 1}: hus lacks units attribute. Should be kg/kg\n{'time': 'PT3H', 'zoom': 1}: dataset misses dimension variable pressure_level\n{'time': 'PT3H', 'zoom': 1}: dataset misses dimension variable pressure_level\n{'time': 'PT3H', 'zoom': 1}: dataset misses dimension variable pressure_level\n{'time': 'PT3H', 'zoom': 1}: dataset misses dimension variable pressure_level\n{'time': 'PT3H', 'zoom': 1}: dataset misses dimension variable pressure_level\n{'time': 'PT3H', 'zoom': 1}: dataset misses dimension variable pressure_level\n{'time': 'PT3H', 'zoom': 1}: dataset misses dimension variable pressure_level\n{'time': 'PT3H', 'zoom': 1}: wa missing.\n{'time': 'PT3H', 'zoom': 1}: zg missing.\n\n{'time': 'PT3H', 'zoom': 0}: dataset misses dimension variable pressure_level\n{'time': 'PT3H', 'zoom': 0}: dataset misses dimension variable pressure_level\n{'time': 'PT3H', 'zoom': 0}: hur missing.\n{'time': 'PT3H', 'zoom': 0}: hus lacks units attribute. Should be kg/kg\n{'time': 'PT3H', 'zoom': 0}: dataset misses dimension variable pressure_level\n{'time': 'PT3H', 'zoom': 0}: dataset misses dimension variable pressure_level\n{'time': 'PT3H', 'zoom': 0}: dataset misses dimension variable pressure_level\n{'time': 'PT3H', 'zoom': 0}: dataset misses dimension variable pressure_level\n{'time': 'PT3H', 'zoom': 0}: dataset misses dimension variable pressure_level\n{'time': 'PT3H', 'zoom': 0}: dataset misses dimension variable pressure_level\n{'time': 'PT3H', 'zoom': 0}: dataset misses dimension variable pressure_level\n{'time': 'PT3H', 'zoom': 0}: wa missing.\n{'time': 'PT3H', 'zoom': 0}: zg missing.\n\n{'time': 'P1D', 'zoom': 7}: dataset misses dimension variable pressure_level\n{'time': 'P1D', 'zoom': 7}: dataset misses dimension variable pressure_level\n{'time': 'P1D', 'zoom': 7}: hur missing.\n{'time': 'P1D', 'zoom': 7}: hus lacks units attribute. Should be kg/kg\n{'time': 'P1D', 'zoom': 7}: dataset misses dimension variable pressure_level\n{'time': 'P1D', 'zoom': 7}: dataset misses dimension variable pressure_level\n{'time': 'P1D', 'zoom': 7}: dataset misses dimension variable pressure_level\n{'time': 'P1D', 'zoom': 7}: dataset misses dimension variable pressure_level\n{'time': 'P1D', 'zoom': 7}: dataset misses dimension variable pressure_level\n{'time': 'P1D', 'zoom': 7}: dataset misses dimension variable pressure_level\n{'time': 'P1D', 'zoom': 7}: dataset misses dimension variable pressure_level\n{'time': 'P1D', 'zoom': 7}: wa missing.\n{'time': 'P1D', 'zoom': 7}: zg missing.\n\n{'time': 'P1D', 'zoom': 6}: dataset misses dimension variable pressure_level\n{'time': 'P1D', 'zoom': 6}: dataset misses dimension variable pressure_level\n{'time': 'P1D', 'zoom': 6}: hur missing.\n{'time': 'P1D', 'zoom': 6}: hus lacks units attribute. Should be kg/kg\n{'time': 'P1D', 'zoom': 6}: dataset misses dimension variable pressure_level\n{'time': 'P1D', 'zoom': 6}: dataset misses dimension variable pressure_level\n{'time': 'P1D', 'zoom': 6}: dataset misses dimension variable pressure_level\n{'time': 'P1D', 'zoom': 6}: dataset misses dimension variable pressure_level\n{'time': 'P1D', 'zoom': 6}: dataset misses dimension variable pressure_level\n{'time': 'P1D', 'zoom': 6}: dataset misses dimension variable pressure_level\n{'time': 'P1D', 'zoom': 6}: dataset misses dimension variable pressure_level\n{'time': 'P1D', 'zoom': 6}: wa missing.\n{'time': 'P1D', 'zoom': 6}: zg missing.\n\n{'time': 'P1D', 'zoom': 5}: dataset misses dimension variable pressure_level\n{'time': 'P1D', 'zoom': 5}: dataset misses dimension variable pressure_level\n{'time': 'P1D', 'zoom': 5}: hur missing.\n{'time': 'P1D', 'zoom': 5}: hus lacks units attribute. Should be kg/kg\n{'time': 'P1D', 'zoom': 5}: dataset misses dimension variable pressure_level\n{'time': 'P1D', 'zoom': 5}: dataset misses dimension variable pressure_level\n{'time': 'P1D', 'zoom': 5}: dataset misses dimension variable pressure_level\n{'time': 'P1D', 'zoom': 5}: dataset misses dimension variable pressure_level\n{'time': 'P1D', 'zoom': 5}: dataset misses dimension variable pressure_level\n{'time': 'P1D', 'zoom': 5}: dataset misses dimension variable pressure_level\n{'time': 'P1D', 'zoom': 5}: dataset misses dimension variable pressure_level\n{'time': 'P1D', 'zoom': 5}: wa missing.\n{'time': 'P1D', 'zoom': 5}: zg missing.\n\n{'time': 'P1D', 'zoom': 4}: dataset misses dimension variable pressure_level\n{'time': 'P1D', 'zoom': 4}: dataset misses dimension variable pressure_level\n{'time': 'P1D', 'zoom': 4}: hur missing.\n{'time': 'P1D', 'zoom': 4}: hus lacks units attribute. Should be kg/kg\n{'time': 'P1D', 'zoom': 4}: dataset misses dimension variable pressure_level\n{'time': 'P1D', 'zoom': 4}: dataset misses dimension variable pressure_level\n{'time': 'P1D', 'zoom': 4}: dataset misses dimension variable pressure_level\n{'time': 'P1D', 'zoom': 4}: dataset misses dimension variable pressure_level\n{'time': 'P1D', 'zoom': 4}: dataset misses dimension variable pressure_level\n{'time': 'P1D', 'zoom': 4}: dataset misses dimension variable pressure_level\n{'time': 'P1D', 'zoom': 4}: dataset misses dimension variable pressure_level\n{'time': 'P1D', 'zoom': 4}: wa missing.\n{'time': 'P1D', 'zoom': 4}: zg missing.\n\n{'time': 'P1D', 'zoom': 3}: dataset misses dimension variable pressure_level\n{'time': 'P1D', 'zoom': 3}: dataset misses dimension variable pressure_level\n{'time': 'P1D', 'zoom': 3}: hur missing.\n{'time': 'P1D', 'zoom': 3}: hus lacks units attribute. Should be kg/kg\n{'time': 'P1D', 'zoom': 3}: dataset misses dimension variable pressure_level\n{'time': 'P1D', 'zoom': 3}: dataset misses dimension variable pressure_level\n{'time': 'P1D', 'zoom': 3}: dataset misses dimension variable pressure_level\n{'time': 'P1D', 'zoom': 3}: dataset misses dimension variable pressure_level\n{'time': 'P1D', 'zoom': 3}: dataset misses dimension variable pressure_level\n{'time': 'P1D', 'zoom': 3}: dataset misses dimension variable pressure_level\n{'time': 'P1D', 'zoom': 3}: dataset misses dimension variable pressure_level\n{'time': 'P1D', 'zoom': 3}: wa missing.\n{'time': 'P1D', 'zoom': 3}: zg missing.\n\n{'time': 'P1D', 'zoom': 2}: dataset misses dimension variable pressure_level\n{'time': 'P1D', 'zoom': 2}: dataset misses dimension variable pressure_level\n{'time': 'P1D', 'zoom': 2}: hur missing.\n{'time': 'P1D', 'zoom': 2}: hus lacks units attribute. Should be kg/kg\n{'time': 'P1D', 'zoom': 2}: dataset misses dimension variable pressure_level\n{'time': 'P1D', 'zoom': 2}: dataset misses dimension variable pressure_level\n{'time': 'P1D', 'zoom': 2}: dataset misses dimension variable pressure_level\n{'time': 'P1D', 'zoom': 2}: dataset misses dimension variable pressure_level\n{'time': 'P1D', 'zoom': 2}: dataset misses dimension variable pressure_level\n{'time': 'P1D', 'zoom': 2}: dataset misses dimension variable pressure_level\n{'time': 'P1D', 'zoom': 2}: dataset misses dimension variable pressure_level\n{'time': 'P1D', 'zoom': 2}: wa missing.\n{'time': 'P1D', 'zoom': 2}: zg missing.\n\n{'time': 'P1D', 'zoom': 1}: dataset misses dimension variable pressure_level\n{'time': 'P1D', 'zoom': 1}: dataset misses dimension variable pressure_level\n{'time': 'P1D', 'zoom': 1}: hur missing.\n{'time': 'P1D', 'zoom': 1}: hus lacks units attribute. Should be kg/kg\n{'time': 'P1D', 'zoom': 1}: dataset misses dimension variable pressure_level\n{'time': 'P1D', 'zoom': 1}: dataset misses dimension variable pressure_level\n{'time': 'P1D', 'zoom': 1}: dataset misses dimension variable pressure_level\n{'time': 'P1D', 'zoom': 1}: dataset misses dimension variable pressure_level\n{'time': 'P1D', 'zoom': 1}: dataset misses dimension variable pressure_level\n{'time': 'P1D', 'zoom': 1}: dataset misses dimension variable pressure_level\n{'time': 'P1D', 'zoom': 1}: dataset misses dimension variable pressure_level\n{'time': 'P1D', 'zoom': 1}: wa missing.\n{'time': 'P1D', 'zoom': 1}: zg missing.\n\n{'time': 'P1D', 'zoom': 0}: dataset misses dimension variable pressure_level\n{'time': 'P1D', 'zoom': 0}: dataset misses dimension variable pressure_level\n{'time': 'P1D', 'zoom': 0}: hur missing.\n{'time': 'P1D', 'zoom': 0}: hus lacks units attribute. Should be kg/kg\n{'time': 'P1D', 'zoom': 0}: dataset misses dimension variable pressure_level\n{'time': 'P1D', 'zoom': 0}: dataset misses dimension variable pressure_level\n{'time': 'P1D', 'zoom': 0}: dataset misses dimension variable pressure_level\n{'time': 'P1D', 'zoom': 0}: dataset misses dimension variable pressure_level\n{'time': 'P1D', 'zoom': 0}: dataset misses dimension variable pressure_level\n{'time': 'P1D', 'zoom': 0}: dataset misses dimension variable pressure_level\n{'time': 'P1D', 'zoom': 0}: dataset misses dimension variable pressure_level\n{'time': 'P1D', 'zoom': 0}: wa missing.\n{'time': 'P1D', 'zoom': 0}: zg missing.\n",
     "output_type": "error",
     "traceback": [
      "\u001b[0;31m---------------------------------------------------------------------------\u001b[0m",
      "\u001b[0;31mBadDataset\u001b[0m                                Traceback (most recent call last)",
      "Cell \u001b[0;32mIn[27], line 3\u001b[0m\n\u001b[1;32m      1\u001b[0m cat \u001b[38;5;241m=\u001b[39m intake\u001b[38;5;241m.\u001b[39mopen_catalog(catalog)\n\u001b[0;32m----> 3\u001b[0m \u001b[43mtest_catalog_entry\u001b[49m\u001b[43m(\u001b[49m\n\u001b[1;32m      4\u001b[0m \u001b[43m    \u001b[49m\u001b[43mcat\u001b[49m\u001b[43m[\u001b[49m\u001b[43mdataset\u001b[49m\u001b[43m]\u001b[49m\u001b[43m,\u001b[49m\n\u001b[1;32m      5\u001b[0m \u001b[43m    \u001b[49m\u001b[43mfixed_keys\u001b[49m\u001b[38;5;241;43m=\u001b[39;49m\u001b[38;5;28;43mdict\u001b[39;49m\u001b[43m(\u001b[49m\u001b[43m)\u001b[49m\u001b[43m,\u001b[49m\n\u001b[1;32m      6\u001b[0m \u001b[43m    \u001b[49m\u001b[43mtest_function\u001b[49m\u001b[38;5;241;43m=\u001b[39;49m\u001b[43mtest_metadata\u001b[49m\u001b[43m,\u001b[49m\n\u001b[1;32m      7\u001b[0m \u001b[43m    \u001b[49m\u001b[43mtest_function_kwargs\u001b[49m\u001b[38;5;241;43m=\u001b[39;49m\u001b[38;5;28;43mdict\u001b[39;49m\u001b[43m(\u001b[49m\u001b[43mexpectations\u001b[49m\u001b[38;5;241;43m=\u001b[39;49m\u001b[43mexpectations\u001b[49m\u001b[43m[\u001b[49m\u001b[38;5;124;43m'\u001b[39;49m\u001b[38;5;124;43mvars_3d\u001b[39;49m\u001b[38;5;124;43m'\u001b[39;49m\u001b[43m]\u001b[49m\u001b[43m)\u001b[49m\u001b[43m,\u001b[49m\n\u001b[1;32m      8\u001b[0m \u001b[43m)\u001b[49m\n",
      "Cell \u001b[0;32mIn[26], line 111\u001b[0m, in \u001b[0;36mtest_catalog_entry\u001b[0;34m(entry, fixed_keys, test_function, test_function_kwargs)\u001b[0m\n\u001b[1;32m    109\u001b[0m             \u001b[38;5;28;01mraise\u001b[39;00m e\n\u001b[1;32m    110\u001b[0m \u001b[38;5;28;01mif\u001b[39;00m \u001b[38;5;28mlen\u001b[39m(errors):\n\u001b[0;32m--> 111\u001b[0m     \u001b[38;5;28;01mraise\u001b[39;00m BadDataset(errors)\n",
      "\u001b[0;31mBadDataset\u001b[0m: \n{'time': 'PT30M', 'zoom': 7}: Error loading {'time': 'PT30M', 'zoom': 7}: Failed to decode variable 'time': cannot reshape array of size 66240 into shape (64800,)\n\n{'time': 'PT30M', 'zoom': 6}: cli missing.\n{'time': 'PT30M', 'zoom': 6}: clw missing.\n{'time': 'PT30M', 'zoom': 6}: hur missing.\n{'time': 'PT30M', 'zoom': 6}: hus missing.\n{'time': 'PT30M', 'zoom': 6}: qg missing.\n{'time': 'PT30M', 'zoom': 6}: qr missing.\n{'time': 'PT30M', 'zoom': 6}: qs missing.\n{'time': 'PT30M', 'zoom': 6}: ta missing.\n{'time': 'PT30M', 'zoom': 6}: ua missing.\n{'time': 'PT30M', 'zoom': 6}: va missing.\n{'time': 'PT30M', 'zoom': 6}: wa missing.\n{'time': 'PT30M', 'zoom': 6}: zg missing.\n\n{'time': 'PT30M', 'zoom': 5}: cli missing.\n{'time': 'PT30M', 'zoom': 5}: clw missing.\n{'time': 'PT30M', 'zoom': 5}: hur missing.\n{'time': 'PT30M', 'zoom': 5}: hus missing.\n{'time': 'PT30M', 'zoom': 5}: qg missing.\n{'time': 'PT30M', 'zoom': 5}: qr missing.\n{'time': 'PT30M', 'zoom': 5}: qs missing.\n{'time': 'PT30M', 'zoom': 5}: ta missing.\n{'time': 'PT30M', 'zoom': 5}: ua missing.\n{'time': 'PT30M', 'zoom': 5}: va missing.\n{'time': 'PT30M', 'zoom': 5}: wa missing.\n{'time': 'PT30M', 'zoom': 5}: zg missing.\n\n{'time': 'PT30M', 'zoom': 4}: cli missing.\n{'time': 'PT30M', 'zoom': 4}: clw missing.\n{'time': 'PT30M', 'zoom': 4}: hur missing.\n{'time': 'PT30M', 'zoom': 4}: hus missing.\n{'time': 'PT30M', 'zoom': 4}: qg missing.\n{'time': 'PT30M', 'zoom': 4}: qr missing.\n{'time': 'PT30M', 'zoom': 4}: qs missing.\n{'time': 'PT30M', 'zoom': 4}: ta missing.\n{'time': 'PT30M', 'zoom': 4}: ua missing.\n{'time': 'PT30M', 'zoom': 4}: va missing.\n{'time': 'PT30M', 'zoom': 4}: wa missing.\n{'time': 'PT30M', 'zoom': 4}: zg missing.\n\n{'time': 'PT30M', 'zoom': 3}: cli missing.\n{'time': 'PT30M', 'zoom': 3}: clw missing.\n{'time': 'PT30M', 'zoom': 3}: hur missing.\n{'time': 'PT30M', 'zoom': 3}: hus missing.\n{'time': 'PT30M', 'zoom': 3}: qg missing.\n{'time': 'PT30M', 'zoom': 3}: qr missing.\n{'time': 'PT30M', 'zoom': 3}: qs missing.\n{'time': 'PT30M', 'zoom': 3}: ta missing.\n{'time': 'PT30M', 'zoom': 3}: ua missing.\n{'time': 'PT30M', 'zoom': 3}: va missing.\n{'time': 'PT30M', 'zoom': 3}: wa missing.\n{'time': 'PT30M', 'zoom': 3}: zg missing.\n\n{'time': 'PT30M', 'zoom': 2}: cli missing.\n{'time': 'PT30M', 'zoom': 2}: clw missing.\n{'time': 'PT30M', 'zoom': 2}: hur missing.\n{'time': 'PT30M', 'zoom': 2}: hus missing.\n{'time': 'PT30M', 'zoom': 2}: qg missing.\n{'time': 'PT30M', 'zoom': 2}: qr missing.\n{'time': 'PT30M', 'zoom': 2}: qs missing.\n{'time': 'PT30M', 'zoom': 2}: ta missing.\n{'time': 'PT30M', 'zoom': 2}: ua missing.\n{'time': 'PT30M', 'zoom': 2}: va missing.\n{'time': 'PT30M', 'zoom': 2}: wa missing.\n{'time': 'PT30M', 'zoom': 2}: zg missing.\n\n{'time': 'PT30M', 'zoom': 1}: cli missing.\n{'time': 'PT30M', 'zoom': 1}: clw missing.\n{'time': 'PT30M', 'zoom': 1}: hur missing.\n{'time': 'PT30M', 'zoom': 1}: hus missing.\n{'time': 'PT30M', 'zoom': 1}: qg missing.\n{'time': 'PT30M', 'zoom': 1}: qr missing.\n{'time': 'PT30M', 'zoom': 1}: qs missing.\n{'time': 'PT30M', 'zoom': 1}: ta missing.\n{'time': 'PT30M', 'zoom': 1}: ua missing.\n{'time': 'PT30M', 'zoom': 1}: va missing.\n{'time': 'PT30M', 'zoom': 1}: wa missing.\n{'time': 'PT30M', 'zoom': 1}: zg missing.\n\n{'time': 'PT30M', 'zoom': 0}: cli missing.\n{'time': 'PT30M', 'zoom': 0}: clw missing.\n{'time': 'PT30M', 'zoom': 0}: hur missing.\n{'time': 'PT30M', 'zoom': 0}: hus missing.\n{'time': 'PT30M', 'zoom': 0}: qg missing.\n{'time': 'PT30M', 'zoom': 0}: qr missing.\n{'time': 'PT30M', 'zoom': 0}: qs missing.\n{'time': 'PT30M', 'zoom': 0}: ta missing.\n{'time': 'PT30M', 'zoom': 0}: ua missing.\n{'time': 'PT30M', 'zoom': 0}: va missing.\n{'time': 'PT30M', 'zoom': 0}: wa missing.\n{'time': 'PT30M', 'zoom': 0}: zg missing.\n\n{'time': 'PT3H', 'zoom': 7}: dataset misses dimension variable pressure_level\n{'time': 'PT3H', 'zoom': 7}: dataset misses dimension variable pressure_level\n{'time': 'PT3H', 'zoom': 7}: hur missing.\n{'time': 'PT3H', 'zoom': 7}: hus lacks units attribute. Should be kg/kg\n{'time': 'PT3H', 'zoom': 7}: dataset misses dimension variable pressure_level\n{'time': 'PT3H', 'zoom': 7}: dataset misses dimension variable pressure_level\n{'time': 'PT3H', 'zoom': 7}: dataset misses dimension variable pressure_level\n{'time': 'PT3H', 'zoom': 7}: dataset misses dimension variable pressure_level\n{'time': 'PT3H', 'zoom': 7}: dataset misses dimension variable pressure_level\n{'time': 'PT3H', 'zoom': 7}: dataset misses dimension variable pressure_level\n{'time': 'PT3H', 'zoom': 7}: dataset misses dimension variable pressure_level\n{'time': 'PT3H', 'zoom': 7}: wa missing.\n{'time': 'PT3H', 'zoom': 7}: zg missing.\n\n{'time': 'PT3H', 'zoom': 6}: Error loading {'time': 'PT3H', 'zoom': 6}: Failed to decode variable 'time': cannot reshape array of size 11040 into shape (10800,)\n\n{'time': 'PT3H', 'zoom': 5}: dataset misses dimension variable pressure_level\n{'time': 'PT3H', 'zoom': 5}: dataset misses dimension variable pressure_level\n{'time': 'PT3H', 'zoom': 5}: hur missing.\n{'time': 'PT3H', 'zoom': 5}: hus lacks units attribute. Should be kg/kg\n{'time': 'PT3H', 'zoom': 5}: dataset misses dimension variable pressure_level\n{'time': 'PT3H', 'zoom': 5}: dataset misses dimension variable pressure_level\n{'time': 'PT3H', 'zoom': 5}: dataset misses dimension variable pressure_level\n{'time': 'PT3H', 'zoom': 5}: dataset misses dimension variable pressure_level\n{'time': 'PT3H', 'zoom': 5}: dataset misses dimension variable pressure_level\n{'time': 'PT3H', 'zoom': 5}: dataset misses dimension variable pressure_level\n{'time': 'PT3H', 'zoom': 5}: dataset misses dimension variable pressure_level\n{'time': 'PT3H', 'zoom': 5}: wa missing.\n{'time': 'PT3H', 'zoom': 5}: zg missing.\n\n{'time': 'PT3H', 'zoom': 4}: dataset misses dimension variable pressure_level\n{'time': 'PT3H', 'zoom': 4}: dataset misses dimension variable pressure_level\n{'time': 'PT3H', 'zoom': 4}: hur missing.\n{'time': 'PT3H', 'zoom': 4}: hus lacks units attribute. Should be kg/kg\n{'time': 'PT3H', 'zoom': 4}: dataset misses dimension variable pressure_level\n{'time': 'PT3H', 'zoom': 4}: dataset misses dimension variable pressure_level\n{'time': 'PT3H', 'zoom': 4}: dataset misses dimension variable pressure_level\n{'time': 'PT3H', 'zoom': 4}: dataset misses dimension variable pressure_level\n{'time': 'PT3H', 'zoom': 4}: dataset misses dimension variable pressure_level\n{'time': 'PT3H', 'zoom': 4}: dataset misses dimension variable pressure_level\n{'time': 'PT3H', 'zoom': 4}: dataset misses dimension variable pressure_level\n{'time': 'PT3H', 'zoom': 4}: wa missing.\n{'time': 'PT3H', 'zoom': 4}: zg missing.\n\n{'time': 'PT3H', 'zoom': 3}: dataset misses dimension variable pressure_level\n{'time': 'PT3H', 'zoom': 3}: dataset misses dimension variable pressure_level\n{'time': 'PT3H', 'zoom': 3}: hur missing.\n{'time': 'PT3H', 'zoom': 3}: hus lacks units attribute. Should be kg/kg\n{'time': 'PT3H', 'zoom': 3}: dataset misses dimension variable pressure_level\n{'time': 'PT3H', 'zoom': 3}: dataset misses dimension variable pressure_level\n{'time': 'PT3H', 'zoom': 3}: dataset misses dimension variable pressure_level\n{'time': 'PT3H', 'zoom': 3}: dataset misses dimension variable pressure_level\n{'time': 'PT3H', 'zoom': 3}: dataset misses dimension variable pressure_level\n{'time': 'PT3H', 'zoom': 3}: dataset misses dimension variable pressure_level\n{'time': 'PT3H', 'zoom': 3}: dataset misses dimension variable pressure_level\n{'time': 'PT3H', 'zoom': 3}: wa missing.\n{'time': 'PT3H', 'zoom': 3}: zg missing.\n\n{'time': 'PT3H', 'zoom': 2}: dataset misses dimension variable pressure_level\n{'time': 'PT3H', 'zoom': 2}: dataset misses dimension variable pressure_level\n{'time': 'PT3H', 'zoom': 2}: hur missing.\n{'time': 'PT3H', 'zoom': 2}: hus lacks units attribute. Should be kg/kg\n{'time': 'PT3H', 'zoom': 2}: dataset misses dimension variable pressure_level\n{'time': 'PT3H', 'zoom': 2}: dataset misses dimension variable pressure_level\n{'time': 'PT3H', 'zoom': 2}: dataset misses dimension variable pressure_level\n{'time': 'PT3H', 'zoom': 2}: dataset misses dimension variable pressure_level\n{'time': 'PT3H', 'zoom': 2}: dataset misses dimension variable pressure_level\n{'time': 'PT3H', 'zoom': 2}: dataset misses dimension variable pressure_level\n{'time': 'PT3H', 'zoom': 2}: dataset misses dimension variable pressure_level\n{'time': 'PT3H', 'zoom': 2}: wa missing.\n{'time': 'PT3H', 'zoom': 2}: zg missing.\n\n{'time': 'PT3H', 'zoom': 1}: dataset misses dimension variable pressure_level\n{'time': 'PT3H', 'zoom': 1}: dataset misses dimension variable pressure_level\n{'time': 'PT3H', 'zoom': 1}: hur missing.\n{'time': 'PT3H', 'zoom': 1}: hus lacks units attribute. Should be kg/kg\n{'time': 'PT3H', 'zoom': 1}: dataset misses dimension variable pressure_level\n{'time': 'PT3H', 'zoom': 1}: dataset misses dimension variable pressure_level\n{'time': 'PT3H', 'zoom': 1}: dataset misses dimension variable pressure_level\n{'time': 'PT3H', 'zoom': 1}: dataset misses dimension variable pressure_level\n{'time': 'PT3H', 'zoom': 1}: dataset misses dimension variable pressure_level\n{'time': 'PT3H', 'zoom': 1}: dataset misses dimension variable pressure_level\n{'time': 'PT3H', 'zoom': 1}: dataset misses dimension variable pressure_level\n{'time': 'PT3H', 'zoom': 1}: wa missing.\n{'time': 'PT3H', 'zoom': 1}: zg missing.\n\n{'time': 'PT3H', 'zoom': 0}: dataset misses dimension variable pressure_level\n{'time': 'PT3H', 'zoom': 0}: dataset misses dimension variable pressure_level\n{'time': 'PT3H', 'zoom': 0}: hur missing.\n{'time': 'PT3H', 'zoom': 0}: hus lacks units attribute. Should be kg/kg\n{'time': 'PT3H', 'zoom': 0}: dataset misses dimension variable pressure_level\n{'time': 'PT3H', 'zoom': 0}: dataset misses dimension variable pressure_level\n{'time': 'PT3H', 'zoom': 0}: dataset misses dimension variable pressure_level\n{'time': 'PT3H', 'zoom': 0}: dataset misses dimension variable pressure_level\n{'time': 'PT3H', 'zoom': 0}: dataset misses dimension variable pressure_level\n{'time': 'PT3H', 'zoom': 0}: dataset misses dimension variable pressure_level\n{'time': 'PT3H', 'zoom': 0}: dataset misses dimension variable pressure_level\n{'time': 'PT3H', 'zoom': 0}: wa missing.\n{'time': 'PT3H', 'zoom': 0}: zg missing.\n\n{'time': 'P1D', 'zoom': 7}: dataset misses dimension variable pressure_level\n{'time': 'P1D', 'zoom': 7}: dataset misses dimension variable pressure_level\n{'time': 'P1D', 'zoom': 7}: hur missing.\n{'time': 'P1D', 'zoom': 7}: hus lacks units attribute. Should be kg/kg\n{'time': 'P1D', 'zoom': 7}: dataset misses dimension variable pressure_level\n{'time': 'P1D', 'zoom': 7}: dataset misses dimension variable pressure_level\n{'time': 'P1D', 'zoom': 7}: dataset misses dimension variable pressure_level\n{'time': 'P1D', 'zoom': 7}: dataset misses dimension variable pressure_level\n{'time': 'P1D', 'zoom': 7}: dataset misses dimension variable pressure_level\n{'time': 'P1D', 'zoom': 7}: dataset misses dimension variable pressure_level\n{'time': 'P1D', 'zoom': 7}: dataset misses dimension variable pressure_level\n{'time': 'P1D', 'zoom': 7}: wa missing.\n{'time': 'P1D', 'zoom': 7}: zg missing.\n\n{'time': 'P1D', 'zoom': 6}: dataset misses dimension variable pressure_level\n{'time': 'P1D', 'zoom': 6}: dataset misses dimension variable pressure_level\n{'time': 'P1D', 'zoom': 6}: hur missing.\n{'time': 'P1D', 'zoom': 6}: hus lacks units attribute. Should be kg/kg\n{'time': 'P1D', 'zoom': 6}: dataset misses dimension variable pressure_level\n{'time': 'P1D', 'zoom': 6}: dataset misses dimension variable pressure_level\n{'time': 'P1D', 'zoom': 6}: dataset misses dimension variable pressure_level\n{'time': 'P1D', 'zoom': 6}: dataset misses dimension variable pressure_level\n{'time': 'P1D', 'zoom': 6}: dataset misses dimension variable pressure_level\n{'time': 'P1D', 'zoom': 6}: dataset misses dimension variable pressure_level\n{'time': 'P1D', 'zoom': 6}: dataset misses dimension variable pressure_level\n{'time': 'P1D', 'zoom': 6}: wa missing.\n{'time': 'P1D', 'zoom': 6}: zg missing.\n\n{'time': 'P1D', 'zoom': 5}: dataset misses dimension variable pressure_level\n{'time': 'P1D', 'zoom': 5}: dataset misses dimension variable pressure_level\n{'time': 'P1D', 'zoom': 5}: hur missing.\n{'time': 'P1D', 'zoom': 5}: hus lacks units attribute. Should be kg/kg\n{'time': 'P1D', 'zoom': 5}: dataset misses dimension variable pressure_level\n{'time': 'P1D', 'zoom': 5}: dataset misses dimension variable pressure_level\n{'time': 'P1D', 'zoom': 5}: dataset misses dimension variable pressure_level\n{'time': 'P1D', 'zoom': 5}: dataset misses dimension variable pressure_level\n{'time': 'P1D', 'zoom': 5}: dataset misses dimension variable pressure_level\n{'time': 'P1D', 'zoom': 5}: dataset misses dimension variable pressure_level\n{'time': 'P1D', 'zoom': 5}: dataset misses dimension variable pressure_level\n{'time': 'P1D', 'zoom': 5}: wa missing.\n{'time': 'P1D', 'zoom': 5}: zg missing.\n\n{'time': 'P1D', 'zoom': 4}: dataset misses dimension variable pressure_level\n{'time': 'P1D', 'zoom': 4}: dataset misses dimension variable pressure_level\n{'time': 'P1D', 'zoom': 4}: hur missing.\n{'time': 'P1D', 'zoom': 4}: hus lacks units attribute. Should be kg/kg\n{'time': 'P1D', 'zoom': 4}: dataset misses dimension variable pressure_level\n{'time': 'P1D', 'zoom': 4}: dataset misses dimension variable pressure_level\n{'time': 'P1D', 'zoom': 4}: dataset misses dimension variable pressure_level\n{'time': 'P1D', 'zoom': 4}: dataset misses dimension variable pressure_level\n{'time': 'P1D', 'zoom': 4}: dataset misses dimension variable pressure_level\n{'time': 'P1D', 'zoom': 4}: dataset misses dimension variable pressure_level\n{'time': 'P1D', 'zoom': 4}: dataset misses dimension variable pressure_level\n{'time': 'P1D', 'zoom': 4}: wa missing.\n{'time': 'P1D', 'zoom': 4}: zg missing.\n\n{'time': 'P1D', 'zoom': 3}: dataset misses dimension variable pressure_level\n{'time': 'P1D', 'zoom': 3}: dataset misses dimension variable pressure_level\n{'time': 'P1D', 'zoom': 3}: hur missing.\n{'time': 'P1D', 'zoom': 3}: hus lacks units attribute. Should be kg/kg\n{'time': 'P1D', 'zoom': 3}: dataset misses dimension variable pressure_level\n{'time': 'P1D', 'zoom': 3}: dataset misses dimension variable pressure_level\n{'time': 'P1D', 'zoom': 3}: dataset misses dimension variable pressure_level\n{'time': 'P1D', 'zoom': 3}: dataset misses dimension variable pressure_level\n{'time': 'P1D', 'zoom': 3}: dataset misses dimension variable pressure_level\n{'time': 'P1D', 'zoom': 3}: dataset misses dimension variable pressure_level\n{'time': 'P1D', 'zoom': 3}: dataset misses dimension variable pressure_level\n{'time': 'P1D', 'zoom': 3}: wa missing.\n{'time': 'P1D', 'zoom': 3}: zg missing.\n\n{'time': 'P1D', 'zoom': 2}: dataset misses dimension variable pressure_level\n{'time': 'P1D', 'zoom': 2}: dataset misses dimension variable pressure_level\n{'time': 'P1D', 'zoom': 2}: hur missing.\n{'time': 'P1D', 'zoom': 2}: hus lacks units attribute. Should be kg/kg\n{'time': 'P1D', 'zoom': 2}: dataset misses dimension variable pressure_level\n{'time': 'P1D', 'zoom': 2}: dataset misses dimension variable pressure_level\n{'time': 'P1D', 'zoom': 2}: dataset misses dimension variable pressure_level\n{'time': 'P1D', 'zoom': 2}: dataset misses dimension variable pressure_level\n{'time': 'P1D', 'zoom': 2}: dataset misses dimension variable pressure_level\n{'time': 'P1D', 'zoom': 2}: dataset misses dimension variable pressure_level\n{'time': 'P1D', 'zoom': 2}: dataset misses dimension variable pressure_level\n{'time': 'P1D', 'zoom': 2}: wa missing.\n{'time': 'P1D', 'zoom': 2}: zg missing.\n\n{'time': 'P1D', 'zoom': 1}: dataset misses dimension variable pressure_level\n{'time': 'P1D', 'zoom': 1}: dataset misses dimension variable pressure_level\n{'time': 'P1D', 'zoom': 1}: hur missing.\n{'time': 'P1D', 'zoom': 1}: hus lacks units attribute. Should be kg/kg\n{'time': 'P1D', 'zoom': 1}: dataset misses dimension variable pressure_level\n{'time': 'P1D', 'zoom': 1}: dataset misses dimension variable pressure_level\n{'time': 'P1D', 'zoom': 1}: dataset misses dimension variable pressure_level\n{'time': 'P1D', 'zoom': 1}: dataset misses dimension variable pressure_level\n{'time': 'P1D', 'zoom': 1}: dataset misses dimension variable pressure_level\n{'time': 'P1D', 'zoom': 1}: dataset misses dimension variable pressure_level\n{'time': 'P1D', 'zoom': 1}: dataset misses dimension variable pressure_level\n{'time': 'P1D', 'zoom': 1}: wa missing.\n{'time': 'P1D', 'zoom': 1}: zg missing.\n\n{'time': 'P1D', 'zoom': 0}: dataset misses dimension variable pressure_level\n{'time': 'P1D', 'zoom': 0}: dataset misses dimension variable pressure_level\n{'time': 'P1D', 'zoom': 0}: hur missing.\n{'time': 'P1D', 'zoom': 0}: hus lacks units attribute. Should be kg/kg\n{'time': 'P1D', 'zoom': 0}: dataset misses dimension variable pressure_level\n{'time': 'P1D', 'zoom': 0}: dataset misses dimension variable pressure_level\n{'time': 'P1D', 'zoom': 0}: dataset misses dimension variable pressure_level\n{'time': 'P1D', 'zoom': 0}: dataset misses dimension variable pressure_level\n{'time': 'P1D', 'zoom': 0}: dataset misses dimension variable pressure_level\n{'time': 'P1D', 'zoom': 0}: dataset misses dimension variable pressure_level\n{'time': 'P1D', 'zoom': 0}: dataset misses dimension variable pressure_level\n{'time': 'P1D', 'zoom': 0}: wa missing.\n{'time': 'P1D', 'zoom': 0}: zg missing.\n"
     ]
    }
   ],
   "source": [
    "cat = intake.open_catalog(catalog)\n",
    "\n",
    "test_catalog_entry(\n",
    "    cat[dataset],\n",
    "    fixed_keys=dict(),\n",
    "    test_function=test_metadata,\n",
    "    test_function_kwargs=dict(expectations=expectations[\"vars_3d\"]),\n",
    ")"
   ]
  },
  {
   "cell_type": "code",
   "execution_count": null,
   "metadata": {},
   "outputs": [
    {
     "name": "stderr",
     "output_type": "stream",
     "text": [
      "INFO:root:processing {'zoom': 0, 'time': 'P1D'}\n"
     ]
    },
    {
     "name": "stdout",
     "output_type": "stream",
     "text": [
      "0.0 kg kg-1 <= cli <= 1.1850073860841803e-05 kg kg-1\n",
      "0.0 kg kg-1 <= clw <= 0.00014487258158624172 kg kg-1\n",
      "9.195958341479127e-07  <= hus <= 0.016969993710517883 \n",
      "0.0 kg kg-1 <= qg <= 1.4504894352285191e-05 kg kg-1\n",
      "0.0 kg kg-1 <= qr <= 1.5941172023303807e-05 kg kg-1\n",
      "0.0 kg kg-1 <= qs <= 3.3542186429258436e-05 kg kg-1\n",
      "163.17454528808594 K <= ta <= 299.22613525390625 K\n",
      "-57.61587905883789 m s-1 <= ua <= 81.64440155029297 m s-1\n",
      "-50.223899841308594 m s-1 <= va <= 39.78651809692383 m s-1\n"
     ]
    },
    {
     "ename": "BadDataset",
     "evalue": "\n{'zoom': 0, 'time': 'P1D'}: hur missing.\n{'zoom': 0, 'time': 'P1D'}: wa missing.\n{'zoom': 0, 'time': 'P1D'}: zg missing.\n",
     "output_type": "error",
     "traceback": [
      "\u001b[0;31m---------------------------------------------------------------------------\u001b[0m",
      "\u001b[0;31mBadDataset\u001b[0m                                Traceback (most recent call last)",
      "Cell \u001b[0;32mIn[7], line 1\u001b[0m\n\u001b[0;32m----> 1\u001b[0m \u001b[43mtest_catalog_entry\u001b[49m\u001b[43m(\u001b[49m\n\u001b[1;32m      2\u001b[0m \u001b[43m    \u001b[49m\u001b[43mcat\u001b[49m\u001b[43m[\u001b[49m\u001b[43mdataset\u001b[49m\u001b[43m]\u001b[49m\u001b[43m,\u001b[49m\n\u001b[1;32m      3\u001b[0m \u001b[43m    \u001b[49m\u001b[43mfixed_keys\u001b[49m\u001b[38;5;241;43m=\u001b[39;49m\u001b[38;5;28;43mdict\u001b[39;49m\u001b[43m(\u001b[49m\u001b[43mzoom\u001b[49m\u001b[38;5;241;43m=\u001b[39;49m\u001b[38;5;241;43m0\u001b[39;49m\u001b[43m,\u001b[49m\u001b[43m \u001b[49m\u001b[43mtime\u001b[49m\u001b[38;5;241;43m=\u001b[39;49m\u001b[38;5;124;43m'\u001b[39;49m\u001b[38;5;124;43mP1D\u001b[39;49m\u001b[38;5;124;43m'\u001b[39;49m\u001b[43m)\u001b[49m\u001b[43m,\u001b[49m\n\u001b[1;32m      4\u001b[0m \u001b[43m    \u001b[49m\u001b[43mtest_function\u001b[49m\u001b[38;5;241;43m=\u001b[39;49m\u001b[43mtest_values\u001b[49m\u001b[43m,\u001b[49m\n\u001b[1;32m      5\u001b[0m \u001b[43m    \u001b[49m\u001b[43mtest_function_kwargs\u001b[49m\u001b[38;5;241;43m=\u001b[39;49m\u001b[38;5;28;43mdict\u001b[39;49m\u001b[43m(\u001b[49m\u001b[43mexpectations\u001b[49m\u001b[38;5;241;43m=\u001b[39;49m\u001b[43mexpectations\u001b[49m\u001b[43m[\u001b[49m\u001b[38;5;124;43m'\u001b[39;49m\u001b[38;5;124;43mvars_3d\u001b[39;49m\u001b[38;5;124;43m'\u001b[39;49m\u001b[43m]\u001b[49m\u001b[43m)\u001b[49m\u001b[43m,\u001b[49m\n\u001b[1;32m      6\u001b[0m \u001b[43m)\u001b[49m\n",
      "Cell \u001b[0;32mIn[5], line 92\u001b[0m, in \u001b[0;36mtest_catalog_entry\u001b[0;34m(entry, fixed_keys, test_function, test_function_kwargs)\u001b[0m\n\u001b[1;32m     90\u001b[0m             logging\u001b[38;5;241m.\u001b[39mcritical(\u001b[38;5;124mf\u001b[39m\u001b[38;5;124m\"\u001b[39m\u001b[38;5;124mError processing \u001b[39m\u001b[38;5;132;01m{\u001b[39;00mx\u001b[38;5;132;01m}\u001b[39;00m\u001b[38;5;124m: \u001b[39m\u001b[38;5;132;01m{\u001b[39;00me\u001b[38;5;132;01m}\u001b[39;00m\u001b[38;5;124m\"\u001b[39m)\n\u001b[1;32m     91\u001b[0m \u001b[38;5;28;01mif\u001b[39;00m \u001b[38;5;28mlen\u001b[39m(errors):\n\u001b[0;32m---> 92\u001b[0m     \u001b[38;5;28;01mraise\u001b[39;00m BadDataset(errors)\n",
      "\u001b[0;31mBadDataset\u001b[0m: \n{'zoom': 0, 'time': 'P1D'}: hur missing.\n{'zoom': 0, 'time': 'P1D'}: wa missing.\n{'zoom': 0, 'time': 'P1D'}: zg missing.\n"
     ]
    }
   ],
   "source": [
    "test_catalog_entry(\n",
    "    cat[dataset],\n",
    "    fixed_keys=dict(zoom=0, time=\"P1D\"),\n",
    "    test_function=test_values,\n",
    "    test_function_kwargs=dict(expectations=expectations[\"vars_3d\"]),\n",
    ")"
   ]
  },
  {
   "cell_type": "code",
   "execution_count": null,
   "metadata": {},
   "outputs": [],
   "source": []
  }
 ],
 "metadata": {
  "kernelspec": {
   "display_name": "Python 3",
   "language": "python",
   "name": "python3"
  },
  "language_info": {
   "codemirror_mode": {
    "name": "ipython",
    "version": 3
   },
   "file_extension": ".py",
   "mimetype": "text/x-python",
   "name": "python",
   "nbconvert_exporter": "python",
   "pygments_lexer": "ipython3",
   "version": "3.11.6"
  }
 },
 "nbformat": 4,
 "nbformat_minor": 2
}
